{
 "cells": [
  {
   "cell_type": "code",
   "execution_count": 1,
   "metadata": {
    "collapsed": true,
    "pycharm": {
     "name": "#%%\n",
     "is_executing": false
    }
   },
   "outputs": [],
   "source": [
    "from Evaluator import Evaluator\n",
    "from flask import Flask\n",
    "from flask import request\n",
    "from flask import jsonify\n",
    "app = Flask(__name__)\n",
    "import json"
   ]
  },
  {
   "cell_type": "code",
   "execution_count": null,
   "outputs": [
    {
     "name": "stdout",
     "text": [
      " * Serving Flask app \"__main__\" (lazy loading)\r\n",
      " * Environment: production\r\n",
      "   WARNING: This is a development server. Do not use it in a production deployment.\r\n",
      "   Use a production WSGI server instead.\r\n",
      " * Debug mode: off\r\n"
     ],
     "output_type": "stream"
    },
    {
     "name": "stderr",
     "text": [
      " * Running on http://0.0.0.0:80/ (Press CTRL+C to quit)\n",
      "10.0.1.23 - - [30/Dec/2019 21:56:08] \"\u001b[37mPOST /evaluate HTTP/1.1\u001b[0m\" 200 -\n",
      "10.0.1.23 - - [30/Dec/2019 23:01:48] \"\u001b[37mPOST /evaluate HTTP/1.1\u001b[0m\" 200 -\n",
      "10.0.1.23 - - [30/Dec/2019 23:03:15] \"\u001b[37mPOST /evaluate HTTP/1.1\u001b[0m\" 200 -\n",
      "10.0.1.34 - - [30/Dec/2019 23:30:25] \"\u001b[37mPOST /evaluate HTTP/1.1\u001b[0m\" 200 -\n",
      "10.0.1.34 - - [30/Dec/2019 23:30:49] \"\u001b[37mPOST /evaluate HTTP/1.1\u001b[0m\" 200 -\n",
      "10.0.1.34 - - [30/Dec/2019 23:35:42] \"\u001b[37mPOST /evaluate HTTP/1.1\u001b[0m\" 200 -\n"
     ],
     "output_type": "stream"
    }
   ],
   "source": [
    "@app.route('/evaluate', methods=['post'])\n",
    "def evaluate():\n",
    "    data = request.get_json()\n",
    "    #pred_ans = evaluator.evaluate(data)\n",
    "    pred_ans = ['1', '2', '3', '4', '5', '6']\n",
    "    return jsonify(pred_ans)\n",
    "    \n",
    "if __name__ == \"__main__\":\n",
    "    #evaluator = Evaluator()\n",
    "    #evaluator.load_encoder('output/encoder.pkl')\n",
    "    #evaluator.load_model('output/model.h5')\n",
    "    #evaluator.update()\n",
    "    app.run(host='0.0.0.0', port=80)\n"
   ],
   "metadata": {
    "collapsed": false,
    "pycharm": {
     "name": "#%%\n",
     "is_executing": true
    }
   }
  },
  {
   "cell_type": "code",
   "execution_count": null,
   "outputs": [],
   "source": [
    "\n"
   ],
   "metadata": {
    "collapsed": false,
    "pycharm": {
     "name": "#%%\n"
    }
   }
  }
 ],
 "metadata": {
  "kernelspec": {
   "display_name": "Python 3",
   "language": "python",
   "name": "python3"
  },
  "language_info": {
   "codemirror_mode": {
    "name": "ipython",
    "version": 2
   },
   "file_extension": ".py",
   "mimetype": "text/x-python",
   "name": "python",
   "nbconvert_exporter": "python",
   "pygments_lexer": "ipython2",
   "version": "2.7.6"
  },
  "pycharm": {
   "stem_cell": {
    "cell_type": "raw",
    "source": [],
    "metadata": {
     "collapsed": false
    }
   }
  }
 },
 "nbformat": 4,
 "nbformat_minor": 0
}