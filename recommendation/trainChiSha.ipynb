{
 "cells": [
  {
   "cell_type": "code",
   "execution_count": 1,
   "metadata": {
    "collapsed": true,
    "pycharm": {
     "is_executing": false
    }
   },
   "outputs": [],
   "source": [
    "import numpy as np\n",
    "from urllib.request import urlopen\n",
    "import pandas as pd\n",
    "from deepctr.models import DIN,DeepFM\n",
    "from deepctr.inputs import SparseFeat,VarLenSparseFeat,DenseFeat,get_feature_names\n",
    "from sklearn.preprocessing import LabelEncoder, MinMaxScaler\n",
    "from tensorflow.python.keras.preprocessing.sequence import pad_sequences"
   ]
  },
  {
   "cell_type": "code",
   "execution_count": 2,
   "outputs": [],
   "source": [
    "url = \"www.baidu.com/recommendation?count={}\"\n",
    "url = url.format(1000)\n",
    "data_source = urlopen(url)\n",
    "data = pd.read_csv(data_source, keep_date_col=True)"
   ],
   "metadata": {
    "collapsed": false,
    "pycharm": {
     "name": "#%%\n",
     "is_executing": false
    }
   }
  },
  {
   "cell_type": "code",
   "execution_count": 3,
   "outputs": [
    {
     "data": {
      "text/plain": "0    3.0\n1    4.0\n2    NaN\n3    4.0\n4    5.0\nName: age, dtype: float64"
     },
     "metadata": {},
     "output_type": "execute_result",
     "execution_count": 3
    }
   ],
   "source": [
    "data['age']"
   ],
   "metadata": {
    "collapsed": false,
    "pycharm": {
     "name": "#%%\n",
     "is_executing": false
    }
   }
  },
  {
   "cell_type": "code",
   "execution_count": 4,
   "outputs": [],
   "source": [
    "model_input = {}"
   ],
   "metadata": {
    "collapsed": false,
    "pycharm": {
     "name": "#%%\n",
     "is_executing": false
    }
   }
  },
  {
   "cell_type": "code",
   "execution_count": 5,
   "outputs": [],
   "source": [
    "fixed_sparse_dict = {\n",
    "    'gender': [2, 20],\n",
    "    'age': [5+1, 20],\n",
    "    'born_place': [34+1, 20],\n",
    "    'recipe': [-1, 20]\n",
    "}\n",
    "for feat,value in fixed_sparse_dict.items():\n",
    "    data[feat] = data[feat].fillna(-1)\n",
    "    lbe = LabelEncoder()\n",
    "    data[feat] = lbe.fit_transform(data[feat])\n",
    "    if value[0] == -1:\n",
    "        fixed_sparse_dict[feat][0] = data[feat].nunique()"
   ],
   "metadata": {
    "collapsed": false,
    "pycharm": {
     "name": "#%%\n",
     "is_executing": false
    }
   }
  },
  {
   "cell_type": "code",
   "execution_count": 6,
   "outputs": [],
   "source": [
    "fixed_sparse_feature_columns = []\n",
    "for feat,value in fixed_sparse_dict.items():\n",
    "    fixed_sparse_feature_columns.append(SparseFeat(feat,vocabulary_size=value[0],embedding_dim=value[1]))\n",
    "    model_input[feat] = data[feat]"
   ],
   "metadata": {
    "collapsed": false,
    "pycharm": {
     "name": "#%%\n",
     "is_executing": false
    }
   }
  },
  {
   "cell_type": "code",
   "execution_count": 8,
   "outputs": [
    {
     "data": {
      "text/plain": "   gender  age  born_place preference      hist_recipe  recipe recipe_taste  \\\n0       0    1           0      1|4|5    201|302|1|204       0          2|4   \n1       1    2           0      1|7|8    100|300|3|206       1          NaN   \n2       0    0           0      2|3|6    202|303|2|205       2          2|4   \n3       0    2           0     7|8|13  199|198|197|196       3          2|4   \n4       1    3           0     12|1|5      192|168|1|1       4          2|4   \n\n  recipe_style ingredient seasoning  \n0        3|6|8      1|2|6    2|5|10  \n1       3|6|10      1|2|5    2|5|10  \n2        3|6|8      2|2|0    2|5|10  \n3          NaN      1|2|5    2|5|10  \n4        3|6|8      7|3|5    2|5|10  ",
      "text/html": "<div>\n<style scoped>\n    .dataframe tbody tr th:only-of-type {\n        vertical-align: middle;\n    }\n\n    .dataframe tbody tr th {\n        vertical-align: top;\n    }\n\n    .dataframe thead th {\n        text-align: right;\n    }\n</style>\n<table border=\"1\" class=\"dataframe\">\n  <thead>\n    <tr style=\"text-align: right;\">\n      <th></th>\n      <th>gender</th>\n      <th>age</th>\n      <th>born_place</th>\n      <th>preference</th>\n      <th>hist_recipe</th>\n      <th>recipe</th>\n      <th>recipe_taste</th>\n      <th>recipe_style</th>\n      <th>ingredient</th>\n      <th>seasoning</th>\n    </tr>\n  </thead>\n  <tbody>\n    <tr>\n      <th>0</th>\n      <td>0</td>\n      <td>1</td>\n      <td>0</td>\n      <td>1|4|5</td>\n      <td>201|302|1|204</td>\n      <td>0</td>\n      <td>2|4</td>\n      <td>3|6|8</td>\n      <td>1|2|6</td>\n      <td>2|5|10</td>\n    </tr>\n    <tr>\n      <th>1</th>\n      <td>1</td>\n      <td>2</td>\n      <td>0</td>\n      <td>1|7|8</td>\n      <td>100|300|3|206</td>\n      <td>1</td>\n      <td>NaN</td>\n      <td>3|6|10</td>\n      <td>1|2|5</td>\n      <td>2|5|10</td>\n    </tr>\n    <tr>\n      <th>2</th>\n      <td>0</td>\n      <td>0</td>\n      <td>0</td>\n      <td>2|3|6</td>\n      <td>202|303|2|205</td>\n      <td>2</td>\n      <td>2|4</td>\n      <td>3|6|8</td>\n      <td>2|2|0</td>\n      <td>2|5|10</td>\n    </tr>\n    <tr>\n      <th>3</th>\n      <td>0</td>\n      <td>2</td>\n      <td>0</td>\n      <td>7|8|13</td>\n      <td>199|198|197|196</td>\n      <td>3</td>\n      <td>2|4</td>\n      <td>NaN</td>\n      <td>1|2|5</td>\n      <td>2|5|10</td>\n    </tr>\n    <tr>\n      <th>4</th>\n      <td>1</td>\n      <td>3</td>\n      <td>0</td>\n      <td>12|1|5</td>\n      <td>192|168|1|1</td>\n      <td>4</td>\n      <td>2|4</td>\n      <td>3|6|8</td>\n      <td>7|3|5</td>\n      <td>2|5|10</td>\n    </tr>\n  </tbody>\n</table>\n</div>"
     },
     "metadata": {},
     "output_type": "execute_result",
     "execution_count": 8
    }
   ],
   "source": [
    "data"
   ],
   "metadata": {
    "collapsed": false,
    "pycharm": {
     "name": "#%%\n",
     "is_executing": false
    }
   }
  },
  {
   "cell_type": "code",
   "execution_count": null,
   "outputs": [],
   "source": [
    "dense_dict = {\n",
    "}\n",
    "dense_feature_columns = []\n",
    "\n",
    "for feat, _ in dense_dict.items():\n",
    "    data[feat].fillna(0)\n",
    "    mms = MinMaxScaler(feature_range=(0, 1))\n",
    "    data[feat] = mms.fit_transform(data[feat])\n",
    "    dense_feature_columns.append(DenseFeat(feat))\n",
    "    model_input[feat] = data[feat]\n"
   ],
   "metadata": {
    "collapsed": false,
    "pycharm": {
     "name": "#%%\n",
     "is_executing": false
    }
   }
  },
  {
   "cell_type": "code",
   "execution_count": 7,
   "outputs": [],
   "source": [
    "var_sparse_dict ={\n",
    "    'preference': [-1,-1,20,'preference'],\n",
    "    'hist_recipe' : [-1,-1,20,'recipe'],\n",
    "    'recipe_taste': [-1,-1,20,'recipe_taste'],\n",
    "    'recipe_style': [-1,-1,20,'recipe_recipe_style'],\n",
    "    'ingredient': [-1,-1,20,'recipe_ingredient'],\n",
    "    'seasoning': [-1,-1,20,'recipe_recipe_seasoning']\n",
    "}\n",
    "var_sparse_feature_columns = []"
   ],
   "metadata": {
    "collapsed": false,
    "pycharm": {
     "name": "#%%\n",
     "is_executing": false
    }
   }
  },
  {
   "cell_type": "code",
   "execution_count": 8,
   "outputs": [],
   "source": [
    "#For multi value features， -1 denotes NA， 0 denotes padding\n",
    "#Valid feature number starts from 1"
   ],
   "metadata": {
    "collapsed": false,
    "pycharm": {
     "name": "#%%\n",
     "is_executing": false
    }
   }
  },
  {
   "cell_type": "code",
   "execution_count": 9,
   "outputs": [],
   "source": [
    "def split(x):\n",
    "    key_ans = x.split('|')\n",
    "    for key in key_ans:\n",
    "        if key not in key2index:\n",
    "            # Notice : input value 0 is a special \"padding\",so we do not use 0 to encode valid feature for sequence input\n",
    "            key2index[key] = len(key2index) + 1\n",
    "    return list(map(lambda x: key2index[x], key_ans))"
   ],
   "metadata": {
    "collapsed": false,
    "pycharm": {
     "name": "#%%\n",
     "is_executing": false
    }
   }
  },
  {
   "cell_type": "code",
   "execution_count": 10,
   "outputs": [],
   "source": [
    "for feat,value in var_sparse_dict.items():\n",
    "    key2index = {}\n",
    "    data[feat] = data[feat].fillna('-1')\n",
    "    l_values =  list(map(split, data[feat].values))\n",
    "    l_len = list(map(lambda x:len(x), l_values))\n",
    "    max_len = max(l_len)\n",
    "    l_values = pad_sequences(l_values, maxlen=max_len, padding='post')\n",
    "    if value[0] == -1:\n",
    "        var_sparse_dict[feat][0] = max_len\n",
    "    if value[1] == -1:\n",
    "        var_sparse_dict[feat][1] = len(key2index) + 1\n",
    "    var_sparse_feature_columns.append(\n",
    "        VarLenSparseFeat(feat,maxlen=max_len,\n",
    "                         vocabulary_size=var_sparse_dict[feat][1],\n",
    "                         embedding_dim=var_sparse_dict[feat][2],\n",
    "                         embedding_name=var_sparse_dict[feat][3]))\n",
    "    model_input[feat] = l_values\n"
   ],
   "metadata": {
    "collapsed": false,
    "pycharm": {
     "name": "#%%\n",
     "is_executing": false
    }
   }
  },
  {
   "cell_type": "code",
   "execution_count": 11,
   "outputs": [
    {
     "data": {
      "text/plain": "{'gender': 0    0\n 1    1\n 2    0\n 3    0\n 4    1\n Name: gender, dtype: int64, 'age': 0    1\n 1    2\n 2    0\n 3    2\n 4    3\n Name: age, dtype: int64, 'born_place': 0    0\n 1    0\n 2    0\n 3    0\n 4    0\n Name: born_place, dtype: int64, 'recipe': 0    0\n 1    1\n 2    2\n 3    3\n 4    4\n Name: recipe, dtype: int64, 'preference': array([[ 1,  2,  3],\n        [ 1,  4,  5],\n        [ 6,  7,  8],\n        [ 4,  5,  9],\n        [10,  1,  3]]), 'hist_recipe': array([[ 1,  2,  3,  4],\n        [ 5,  6,  7,  8],\n        [ 9, 10, 11, 12],\n        [13, 14, 15, 16],\n        [17, 18,  3,  3]]), 'recipe_taste': array([[1, 2],\n        [3, 0],\n        [1, 2],\n        [1, 2],\n        [1, 2]]), 'recipe_style': array([[1, 2, 3],\n        [1, 2, 4],\n        [1, 2, 3],\n        [5, 0, 0],\n        [1, 2, 3]]), 'ingredient': array([[1, 2, 3],\n        [1, 2, 4],\n        [2, 2, 5],\n        [1, 2, 4],\n        [6, 7, 4]]), 'seasoning': array([[1, 2, 3],\n        [1, 2, 3],\n        [1, 2, 3],\n        [1, 2, 3],\n        [1, 2, 3]])}"
     },
     "metadata": {},
     "output_type": "execute_result",
     "execution_count": 11
    }
   ],
   "source": [
    "model_input"
   ],
   "metadata": {
    "collapsed": false,
    "pycharm": {
     "name": "#%%\n",
     "is_executing": false
    }
   }
  },
  {
   "cell_type": "code",
   "execution_count": 12,
   "outputs": [],
   "source": [
    "#behavior_feature_list = [\"recipe_id\", \"preference\"]\n",
    "behavior_feature_list = ['recipe']\n",
    "#behavior_feature_list = []"
   ],
   "metadata": {
    "collapsed": false,
    "pycharm": {
     "name": "#%%\n",
     "is_executing": false
    }
   }
  },
  {
   "cell_type": "code",
   "execution_count": 13,
   "outputs": [],
   "source": [
    "feature_columns = fixed_sparse_feature_columns + var_sparse_feature_columns"
   ],
   "metadata": {
    "collapsed": false,
    "pycharm": {
     "name": "#%%\n",
     "is_executing": false
    }
   }
  },
  {
   "cell_type": "code",
   "execution_count": 14,
   "outputs": [],
   "source": [
    "model = DIN(feature_columns, behavior_feature_list)\n",
    "model.compile('adam', 'binary_crossentropy',\n",
    "              metrics=['binary_crossentropy'])"
   ],
   "metadata": {
    "collapsed": false,
    "pycharm": {
     "name": "#%%\n",
     "is_executing": false
    }
   }
  },
  {
   "cell_type": "code",
   "execution_count": 15,
   "outputs": [
    {
     "name": "stdout",
     "text": [
      "WARNING:tensorflow:Falling back from v2 loop because of error: Failed to find data adapter that can handle input: (<class 'dict'> containing {\"<class 'str'>\"} keys and {\"<class 'numpy.ndarray'>\", \"<class 'pandas.core.series.Series'>\"} values), <class 'NoneType'>\n",
      "Train on 5 samples\n",
      "Epoch 1/10\n",
      "5/5 [==============================] - 2s 399ms/sample - loss: 0.6931 - binary_crossentropy: 0.6931\n",
      "Epoch 2/10\n",
      "5/5 [==============================] - 0s 4ms/sample - loss: 0.6872 - binary_crossentropy: 0.6872\n",
      "Epoch 3/10\n",
      "5/5 [==============================] - 0s 5ms/sample - loss: 0.6793 - binary_crossentropy: 0.6793\n",
      "Epoch 4/10\n",
      "5/5 [==============================] - 0s 5ms/sample - loss: 0.6700 - binary_crossentropy: 0.6700\n",
      "Epoch 5/10\n",
      "5/5 [==============================] - 0s 6ms/sample - loss: 0.6596 - binary_crossentropy: 0.6596\n",
      "Epoch 6/10\n",
      "5/5 [==============================] - 0s 6ms/sample - loss: 0.6479 - binary_crossentropy: 0.6479\n",
      "Epoch 7/10\n",
      "5/5 [==============================] - 0s 5ms/sample - loss: 0.6346 - binary_crossentropy: 0.6346\n",
      "Epoch 8/10\n",
      "5/5 [==============================] - 0s 6ms/sample - loss: 0.6198 - binary_crossentropy: 0.6198\n",
      "Epoch 9/10\n",
      "5/5 [==============================] - 0s 6ms/sample - loss: 0.6033 - binary_crossentropy: 0.6033\n",
      "Epoch 10/10\n",
      "5/5 [==============================] - 0s 9ms/sample - loss: 0.5848 - binary_crossentropy: 0.5848\n"
     ],
     "output_type": "stream"
    },
    {
     "name": "stderr",
     "text": [
      "D:\\anaconda\\envs\\deepctr\\lib\\site-packages\\tensorflow_core\\python\\framework\\indexed_slices.py:424: UserWarning: Converting sparse IndexedSlices to a dense Tensor of unknown shape. This may consume a large amount of memory.\n",
      "  \"Converting sparse IndexedSlices to a dense Tensor of unknown shape. \"\n",
      "D:\\anaconda\\envs\\deepctr\\lib\\site-packages\\tensorflow_core\\python\\framework\\indexed_slices.py:424: UserWarning: Converting sparse IndexedSlices to a dense Tensor of unknown shape. This may consume a large amount of memory.\n",
      "  \"Converting sparse IndexedSlices to a dense Tensor of unknown shape. \"\n",
      "D:\\anaconda\\envs\\deepctr\\lib\\site-packages\\tensorflow_core\\python\\framework\\indexed_slices.py:424: UserWarning: Converting sparse IndexedSlices to a dense Tensor of unknown shape. This may consume a large amount of memory.\n",
      "  \"Converting sparse IndexedSlices to a dense Tensor of unknown shape. \"\n"
     ],
     "output_type": "stream"
    }
   ],
   "source": [
    "history = model.fit(model_input, [1,1,1,1,1], verbose=1, epochs=10, validation_split=0)"
   ],
   "metadata": {
    "collapsed": false,
    "pycharm": {
     "name": "#%%\n",
     "is_executing": false
    }
   }
  },
  {
   "cell_type": "code",
   "execution_count": 16,
   "outputs": [
    {
     "data": {
      "text/plain": "[SparseFeat(name='gender', vocabulary_size=2, embedding_dim=20, use_hash=False, dtype='int32', embedding_name='gender', group_name='default_group'),\n SparseFeat(name='age', vocabulary_size=6, embedding_dim=20, use_hash=False, dtype='int32', embedding_name='age', group_name='default_group'),\n SparseFeat(name='born_place', vocabulary_size=35, embedding_dim=20, use_hash=False, dtype='int32', embedding_name='born_place', group_name='default_group'),\n SparseFeat(name='recipe', vocabulary_size=5, embedding_dim=20, use_hash=False, dtype='int32', embedding_name='recipe', group_name='default_group'),\n VarLenSparseFeat(name='preference', maxlen=3, vocabulary_size=10, embedding_dim=20, combiner='mean', use_hash=False, dtype='float32', length_name=None, weight_name=None, embedding_name='preference', group_name='default_group'),\n VarLenSparseFeat(name='hist_recipe', maxlen=4, vocabulary_size=18, embedding_dim=20, combiner='mean', use_hash=False, dtype='float32', length_name=None, weight_name=None, embedding_name='recipe', group_name='default_group'),\n VarLenSparseFeat(name='recipe_taste', maxlen=2, vocabulary_size=3, embedding_dim=20, combiner='mean', use_hash=False, dtype='float32', length_name=None, weight_name=None, embedding_name='recipe_taste', group_name='default_group'),\n VarLenSparseFeat(name='recipe_style', maxlen=3, vocabulary_size=5, embedding_dim=20, combiner='mean', use_hash=False, dtype='float32', length_name=None, weight_name=None, embedding_name='recipe_recipe_style', group_name='default_group'),\n VarLenSparseFeat(name='ingredient', maxlen=3, vocabulary_size=7, embedding_dim=20, combiner='mean', use_hash=False, dtype='float32', length_name=None, weight_name=None, embedding_name='recipe_ingredient', group_name='default_group'),\n VarLenSparseFeat(name='seasoning', maxlen=3, vocabulary_size=3, embedding_dim=20, combiner='mean', use_hash=False, dtype='float32', length_name=None, weight_name=None, embedding_name='recipe_recipe_seasoning', group_name='default_group')]"
     },
     "metadata": {},
     "output_type": "execute_result",
     "execution_count": 16
    }
   ],
   "source": [
    "feature_columns"
   ],
   "metadata": {
    "collapsed": false,
    "pycharm": {
     "name": "#%%\n",
     "is_executing": false
    }
   }
  },
  {
   "cell_type": "code",
   "execution_count": null,
   "outputs": [],
   "source": [
    "\n"
   ],
   "metadata": {
    "collapsed": false,
    "pycharm": {
     "name": "#%%\n"
    }
   }
  }
 ],
 "metadata": {
  "kernelspec": {
   "display_name": "Python 3",
   "language": "python",
   "name": "python3"
  },
  "language_info": {
   "codemirror_mode": {
    "name": "ipython",
    "version": 2
   },
   "file_extension": ".py",
   "mimetype": "text/x-python",
   "name": "python",
   "nbconvert_exporter": "python",
   "pygments_lexer": "ipython2",
   "version": "2.7.6"
  },
  "pycharm": {
   "stem_cell": {
    "cell_type": "raw",
    "source": [],
    "metadata": {
     "collapsed": false
    }
   }
  }
 },
 "nbformat": 4,
 "nbformat_minor": 0
}